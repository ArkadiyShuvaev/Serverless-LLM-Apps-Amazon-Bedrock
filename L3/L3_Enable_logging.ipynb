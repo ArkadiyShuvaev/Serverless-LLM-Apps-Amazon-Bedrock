{
 "cells": [
  {
   "cell_type": "markdown",
   "id": "cc6b7b9f-a75d-4b78-930f-26d2343ac2c2",
   "metadata": {},
   "source": [
    "# Lesson 3: Enable Logging"
   ]
  },
  {
   "cell_type": "markdown",
   "id": "06fc5839-0b4b-42a3-9aaf-99a97e347955",
   "metadata": {},
   "source": [
    "### Import all needed packages"
   ]
  },
  {
   "cell_type": "code",
   "execution_count": 1,
   "metadata": {},
   "outputs": [],
   "source": [
    "import boto3\n",
    "import json\n",
    "import os"
   ]
  },
  {
   "cell_type": "code",
   "execution_count": 13,
   "metadata": {},
   "outputs": [],
   "source": [
    "role_arn = \"arn:aws:iam::165819210796:role/serverless-llm-apps-bedrock-role\"\n",
    "bucket_name = \"learning-apps-bucket\"\n",
    "project_name = \"serverless-llm-apps-amazon-bedrock\"\n",
    "log_group_name = '/learning/serverless-llm-apps-amazon-bedrock'"
   ]
  },
  {
   "cell_type": "code",
   "execution_count": 14,
   "id": "63cf31e4",
   "metadata": {},
   "outputs": [],
   "source": [
    "session = boto3.Session(profile_name=\"default\")\n",
    "bedrock = session.client('bedrock', region_name=\"eu-central-1\")"
   ]
  },
  {
   "cell_type": "code",
   "execution_count": 15,
   "id": "e5d9e31b",
   "metadata": {},
   "outputs": [],
   "source": [
    "from helpers.CloudWatchHelper import CloudWatch_Helper\n",
    "cloudwatch = CloudWatch_Helper()"
   ]
  },
  {
   "cell_type": "code",
   "execution_count": 17,
   "id": "0afe5997",
   "metadata": {},
   "outputs": [],
   "source": [
    "loggingConfig = {\n",
    "    'cloudWatchConfig': {\n",
    "        'logGroupName': log_group_name,\n",
    "        'roleArn': role_arn,\n",
    "        'largeDataDeliveryS3Config': {\n",
    "            'bucketName': bucket_name,\n",
    "            'keyPrefix': project_name + '/amazon_bedrock_large_data_delivery',\n",
    "        }\n",
    "    },\n",
    "    's3Config': {\n",
    "        'bucketName': bucket_name,\n",
    "        'keyPrefix': 'amazon_bedrock_logs',\n",
    "    },\n",
    "    'textDataDeliveryEnabled': True\n",
    "}"
   ]
  },
  {
   "cell_type": "code",
   "execution_count": 18,
   "id": "2ca33ffe",
   "metadata": {},
   "outputs": [
    {
     "data": {
      "text/plain": [
       "{'ResponseMetadata': {'RequestId': 'cc23e8ab-caac-401a-a8ba-3c480a877034',\n",
       "  'HTTPStatusCode': 200,\n",
       "  'HTTPHeaders': {'date': 'Wed, 01 May 2024 13:49:35 GMT',\n",
       "   'content-type': 'application/json',\n",
       "   'content-length': '2',\n",
       "   'connection': 'keep-alive',\n",
       "   'x-amzn-requestid': 'cc23e8ab-caac-401a-a8ba-3c480a877034'},\n",
       "  'RetryAttempts': 0}}"
      ]
     },
     "execution_count": 18,
     "metadata": {},
     "output_type": "execute_result"
    }
   ],
   "source": [
    "bedrock.put_model_invocation_logging_configuration(loggingConfig=loggingConfig)"
   ]
  },
  {
   "cell_type": "code",
   "execution_count": 19,
   "id": "41fdb20d",
   "metadata": {},
   "outputs": [
    {
     "data": {
      "text/plain": [
       "{'ResponseMetadata': {'RequestId': '93779b1d-e63b-46e6-9f1d-fcde44406db6',\n",
       "  'HTTPStatusCode': 200,\n",
       "  'HTTPHeaders': {'date': 'Wed, 01 May 2024 13:49:43 GMT',\n",
       "   'content-type': 'application/json',\n",
       "   'content-length': '510',\n",
       "   'connection': 'keep-alive',\n",
       "   'x-amzn-requestid': '93779b1d-e63b-46e6-9f1d-fcde44406db6'},\n",
       "  'RetryAttempts': 0},\n",
       " 'loggingConfig': {'cloudWatchConfig': {'logGroupName': '/learning/serverless-llm-apps-amazon-bedrock',\n",
       "   'roleArn': 'arn:aws:iam::165819210796:role/serverless-llm-apps-bedrock-role',\n",
       "   'largeDataDeliveryS3Config': {'bucketName': 'learning-apps-bucket',\n",
       "    'keyPrefix': 'serverless-llm-apps-amazon-bedrock/amazon_bedrock_large_data_delivery'}},\n",
       "  's3Config': {'bucketName': 'learning-apps-bucket',\n",
       "   'keyPrefix': 'amazon_bedrock_logs'},\n",
       "  'textDataDeliveryEnabled': True,\n",
       "  'imageDataDeliveryEnabled': True,\n",
       "  'embeddingDataDeliveryEnabled': True}}"
      ]
     },
     "execution_count": 19,
     "metadata": {},
     "output_type": "execute_result"
    }
   ],
   "source": [
    "bedrock.get_model_invocation_logging_configuration()"
   ]
  },
  {
   "cell_type": "code",
   "execution_count": 20,
   "id": "95ebecb7",
   "metadata": {},
   "outputs": [],
   "source": [
    "bedrock_runtime = session.client('bedrock-runtime', region_name=\"eu-central-1\")"
   ]
  },
  {
   "cell_type": "code",
   "execution_count": 21,
   "id": "402c6311",
   "metadata": {},
   "outputs": [
    {
     "name": "stdout",
     "output_type": "stream",
     "text": [
      "\n",
      "Foobar is a fictional planet in the popular science fiction series \"Star Trek\". It is a planet that is home to a species of humanoids known as the Foobarians. The Foobarians are a peaceful and technologically advanced race, known for their love of music and art.\n",
      "\n",
      "The planet Foobar is located in the Beta Quadrant of the Milky Way Galaxy, and is approximately 10 light-years away from Earth. It is a lush, green planet with a breathable atmosphere and a wide variety of flora and fauna. The planet is home to a large population of Foobarians, who live in a series of cities and villages.\n",
      "\n",
      "The Foobarians are a technologically advanced race, with a sophisticated society that is focused on art, music, and science. They have developed a form of transportation that allows them to travel at speeds faster than light, and have a powerful military force that is used solely for defense.\n",
      "\n",
      "One of the most notable features of Foobar is the planet's unique musical culture. The Foobarians are known for their love of music, and have developed a sophisticated system of musical notation and performance. They have a variety of musical instruments, including the foobar, a unique instrument that produces a sound that is described as \"like a cross between a guitar and a synthesizer\".\n",
      "\n",
      "The Foobarians are also known for their artistic achievements. They have developed a rich and complex art style, with a focus on abstract and surrealistic themes. Their art is often displayed in public spaces, and is a source of pride for the Foobarian people.\n",
      "\n",
      "Despite their advanced technology and peaceful nature, the Foobarians have faced a number of challenges in their history. One of the most significant was the invasion of their planet by the Borg, a race of cybernetic organisms that are obsessed with assimilating other species. The Borg were able to conquer the Foobarian civilization, but were eventually defeated by the Enterprise crew, led by Captain James T. Kirk.\n",
      "\n",
      "In recent years, the planet Foobar has become a popular destination for Star Trek fans. The planet has been featured in a number of Star Trek novels and comic books, and has even been the setting for a number of fan-produced films and television episodes.\n",
      "\n",
      "Despite its fictional nature, the planet of Foobar has had a significant impact on the popular science fiction genre. It has inspired a number of other writers and artists to explore the possibilities of a peaceful, technologically advanced society, and\n"
     ]
    }
   ],
   "source": [
    "prompt = \"Write an article about the fictional planet Foobar.\"\n",
    "\n",
    "kwargs = {\n",
    "    \"modelId\": \"amazon.titan-text-express-v1\",\n",
    "    \"contentType\": \"application/json\",\n",
    "    \"accept\": \"*/*\",\n",
    "    \"body\": json.dumps(\n",
    "        {\n",
    "            \"inputText\": prompt,\n",
    "            \"textGenerationConfig\": {\n",
    "                \"maxTokenCount\": 512,\n",
    "                \"temperature\": 0.7,\n",
    "                \"topP\": 0.9\n",
    "            }\n",
    "        }\n",
    "    )\n",
    "}\n",
    "\n",
    "response = bedrock_runtime.invoke_model(**kwargs)\n",
    "response_body = json.loads(response.get('body').read())\n",
    "\n",
    "generation = response_body['results'][0]['outputText']\n",
    "\n",
    "print(generation)"
   ]
  },
  {
   "cell_type": "code",
   "execution_count": 23,
   "id": "68a7bab7",
   "metadata": {},
   "outputs": [],
   "source": [
    "cloudwatch.print_recent_logs(log_group_name)"
   ]
  }
 ],
 "metadata": {
  "kernelspec": {
   "display_name": "Python 3 (ipykernel)",
   "language": "python",
   "name": "python3"
  },
  "language_info": {
   "codemirror_mode": {
    "name": "ipython",
    "version": 3
   },
   "file_extension": ".py",
   "mimetype": "text/x-python",
   "name": "python",
   "nbconvert_exporter": "python",
   "pygments_lexer": "ipython3",
   "version": "3.11.9"
  }
 },
 "nbformat": 4,
 "nbformat_minor": 5
}
